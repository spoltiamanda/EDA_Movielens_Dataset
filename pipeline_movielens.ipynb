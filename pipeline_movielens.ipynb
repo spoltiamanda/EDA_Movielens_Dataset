{
 "cells": [
  {
   "cell_type": "markdown",
   "id": "4e8c507b",
   "metadata": {},
   "source": [
    "Perguntas:\n",
    "- Quantos gêneros o filme \"The Matrix\" tem? Quais são os gêneros?\n",
    "- Quantos gêneros cada filme tem, em média?\n",
    "- Quais são os cinco filmes com maior número de gêneros?\n",
    "- Quantos usuários deram nota para o filme \"The Matrix\"?\n",
    "- Quantos usuários, em média, deram nota para cada filme?\n",
    "- Quais são os cinco filmes para os quais mais usuários deram nota?\n",
    "- Qual o rating médio do filme \"The Matrix\"?\n",
    "- Cada filme tem um rating médio. Qual a média desses ratings, por gênero?\n",
    "- Para cada gênero de filme, quantos usuários deram cada nota possível?"
   ]
  },
  {
   "cell_type": "markdown",
   "id": "08f1dd1e",
   "metadata": {},
   "source": [
    "Dicas:\n",
    "1. Só é necessário as tabelas movies e ratings para este projeto.\n",
    "2. Pesquise a função \"explode\" no pandas. Ela pode ser útil."
   ]
  },
  {
   "cell_type": "markdown",
   "id": "03bed730",
   "metadata": {},
   "source": [
    "## Importação das Bibliotecas"
   ]
  },
  {
   "cell_type": "code",
   "execution_count": 2,
   "id": "927c6c38",
   "metadata": {},
   "outputs": [],
   "source": [
    "import pandas as pd\n",
    "import numpy as np"
   ]
  },
  {
   "cell_type": "markdown",
   "id": "bb35855b",
   "metadata": {},
   "source": [
    "## Extração dos Dados"
   ]
  },
  {
   "cell_type": "code",
   "execution_count": 27,
   "id": "bda307ad",
   "metadata": {},
   "outputs": [],
   "source": [
    "def read_data_csv(filename=str, separator=str, data_types=None):\n",
    "    \n",
    "    df = pd.read_csv(filename, sep=separator, decimal='.', dtype=data_types)\n",
    "    \n",
    "    return df"
   ]
  },
  {
   "cell_type": "code",
   "execution_count": 142,
   "id": "5edcecad",
   "metadata": {},
   "outputs": [],
   "source": [
    "path_dir = 'dados/movie_lens'\n",
    "\n",
    "df_links = read_data_csv(f'{path_dir}/links.csv', ',',  {'tmdbId': str})\n",
    "df_movies = read_data_csv(f'{path_dir}/movies.csv', ',')\n",
    "df_ratings = read_data_csv(f'{path_dir}/ratings.csv', ',')\n",
    "df_tags = read_data_csv(f'{path_dir}/tags.csv', ',')"
   ]
  },
  {
   "cell_type": "code",
   "execution_count": 143,
   "id": "d02380e5",
   "metadata": {},
   "outputs": [
    {
     "name": "stderr",
     "output_type": "stream",
     "text": [
      "C:\\Users\\Amanda\\AppData\\Local\\Temp\\ipykernel_6012\\1538183293.py:2: FutureWarning: The default value of regex will change from True to False in a future version.\n",
      "  df_movies[\"title\"] = df_movies[\"title\"].str.replace(r\" \\(.*\\)\",\"\")\n"
     ]
    }
   ],
   "source": [
    "df_movies[\"ano\"] = df_movies[\"title\"].apply(lambda st: st[st.find(\"(\")+1:st.find(\")\")])\n",
    "df_movies[\"title\"] = df_movies[\"title\"].str.replace(r\" \\(.*\\)\",\"\")\n",
    "df_movies['genres_count'] = df_movies['genres'].str.split('|').str.len()"
   ]
  },
  {
   "cell_type": "code",
   "execution_count": 144,
   "id": "8a34b848",
   "metadata": {
    "scrolled": true
   },
   "outputs": [],
   "source": [
    "id_title=df_movies[['movieId','title']]\n",
    "movies_ratings = pd.merge(df_ratings, id_title, how = 'left', on = 'movieId')"
   ]
  },
  {
   "cell_type": "code",
   "execution_count": 90,
   "id": "8be652a5",
   "metadata": {},
   "outputs": [
    {
     "data": {
      "text/html": [
       "<div>\n",
       "<style scoped>\n",
       "    .dataframe tbody tr th:only-of-type {\n",
       "        vertical-align: middle;\n",
       "    }\n",
       "\n",
       "    .dataframe tbody tr th {\n",
       "        vertical-align: top;\n",
       "    }\n",
       "\n",
       "    .dataframe thead th {\n",
       "        text-align: right;\n",
       "    }\n",
       "</style>\n",
       "<table border=\"1\" class=\"dataframe\">\n",
       "  <thead>\n",
       "    <tr style=\"text-align: right;\">\n",
       "      <th></th>\n",
       "      <th>userId</th>\n",
       "      <th>movieId</th>\n",
       "      <th>rating</th>\n",
       "      <th>timestamp</th>\n",
       "      <th>title</th>\n",
       "    </tr>\n",
       "  </thead>\n",
       "  <tbody>\n",
       "    <tr>\n",
       "      <th>166</th>\n",
       "      <td>1</td>\n",
       "      <td>2571</td>\n",
       "      <td>5.0</td>\n",
       "      <td>964981888</td>\n",
       "      <td>Matrix, The</td>\n",
       "    </tr>\n",
       "    <tr>\n",
       "      <th>442</th>\n",
       "      <td>4</td>\n",
       "      <td>2571</td>\n",
       "      <td>1.0</td>\n",
       "      <td>945173385</td>\n",
       "      <td>Matrix, The</td>\n",
       "    </tr>\n",
       "    <tr>\n",
       "      <th>1130</th>\n",
       "      <td>10</td>\n",
       "      <td>2571</td>\n",
       "      <td>0.5</td>\n",
       "      <td>1455356378</td>\n",
       "      <td>Matrix, The</td>\n",
       "    </tr>\n",
       "    <tr>\n",
       "      <th>1367</th>\n",
       "      <td>13</td>\n",
       "      <td>2571</td>\n",
       "      <td>5.0</td>\n",
       "      <td>987457007</td>\n",
       "      <td>Matrix, The</td>\n",
       "    </tr>\n",
       "    <tr>\n",
       "      <th>1475</th>\n",
       "      <td>15</td>\n",
       "      <td>2571</td>\n",
       "      <td>4.0</td>\n",
       "      <td>1510571744</td>\n",
       "      <td>Matrix, The</td>\n",
       "    </tr>\n",
       "    <tr>\n",
       "      <th>...</th>\n",
       "      <td>...</td>\n",
       "      <td>...</td>\n",
       "      <td>...</td>\n",
       "      <td>...</td>\n",
       "      <td>...</td>\n",
       "    </tr>\n",
       "    <tr>\n",
       "      <th>96689</th>\n",
       "      <td>603</td>\n",
       "      <td>2571</td>\n",
       "      <td>5.0</td>\n",
       "      <td>963177606</td>\n",
       "      <td>Matrix, The</td>\n",
       "    </tr>\n",
       "    <tr>\n",
       "      <th>97791</th>\n",
       "      <td>606</td>\n",
       "      <td>2571</td>\n",
       "      <td>5.0</td>\n",
       "      <td>1171325929</td>\n",
       "      <td>Matrix, The</td>\n",
       "    </tr>\n",
       "    <tr>\n",
       "      <th>98603</th>\n",
       "      <td>607</td>\n",
       "      <td>2571</td>\n",
       "      <td>5.0</td>\n",
       "      <td>963080047</td>\n",
       "      <td>Matrix, The</td>\n",
       "    </tr>\n",
       "    <tr>\n",
       "      <th>99065</th>\n",
       "      <td>608</td>\n",
       "      <td>2571</td>\n",
       "      <td>5.0</td>\n",
       "      <td>1117162423</td>\n",
       "      <td>Matrix, The</td>\n",
       "    </tr>\n",
       "    <tr>\n",
       "      <th>99684</th>\n",
       "      <td>610</td>\n",
       "      <td>2571</td>\n",
       "      <td>5.0</td>\n",
       "      <td>1479545822</td>\n",
       "      <td>Matrix, The</td>\n",
       "    </tr>\n",
       "  </tbody>\n",
       "</table>\n",
       "<p>278 rows × 5 columns</p>\n",
       "</div>"
      ],
      "text/plain": [
       "       userId  movieId  rating   timestamp        title\n",
       "166         1     2571     5.0   964981888  Matrix, The\n",
       "442         4     2571     1.0   945173385  Matrix, The\n",
       "1130       10     2571     0.5  1455356378  Matrix, The\n",
       "1367       13     2571     5.0   987457007  Matrix, The\n",
       "1475       15     2571     4.0  1510571744  Matrix, The\n",
       "...       ...      ...     ...         ...          ...\n",
       "96689     603     2571     5.0   963177606  Matrix, The\n",
       "97791     606     2571     5.0  1171325929  Matrix, The\n",
       "98603     607     2571     5.0   963080047  Matrix, The\n",
       "99065     608     2571     5.0  1117162423  Matrix, The\n",
       "99684     610     2571     5.0  1479545822  Matrix, The\n",
       "\n",
       "[278 rows x 5 columns]"
      ]
     },
     "execution_count": 90,
     "metadata": {},
     "output_type": "execute_result"
    }
   ],
   "source": []
  },
  {
   "cell_type": "code",
   "execution_count": 84,
   "id": "52c79600",
   "metadata": {},
   "outputs": [
    {
     "data": {
      "text/html": [
       "<div>\n",
       "<style scoped>\n",
       "    .dataframe tbody tr th:only-of-type {\n",
       "        vertical-align: middle;\n",
       "    }\n",
       "\n",
       "    .dataframe tbody tr th {\n",
       "        vertical-align: top;\n",
       "    }\n",
       "\n",
       "    .dataframe thead th {\n",
       "        text-align: right;\n",
       "    }\n",
       "</style>\n",
       "<table border=\"1\" class=\"dataframe\">\n",
       "  <thead>\n",
       "    <tr style=\"text-align: right;\">\n",
       "      <th></th>\n",
       "      <th>userId</th>\n",
       "      <th>movieId</th>\n",
       "      <th>rating</th>\n",
       "      <th>timestamp</th>\n",
       "    </tr>\n",
       "  </thead>\n",
       "  <tbody>\n",
       "    <tr>\n",
       "      <th>0</th>\n",
       "      <td>1</td>\n",
       "      <td>1</td>\n",
       "      <td>4.0</td>\n",
       "      <td>964982703</td>\n",
       "    </tr>\n",
       "    <tr>\n",
       "      <th>1</th>\n",
       "      <td>1</td>\n",
       "      <td>3</td>\n",
       "      <td>4.0</td>\n",
       "      <td>964981247</td>\n",
       "    </tr>\n",
       "    <tr>\n",
       "      <th>2</th>\n",
       "      <td>1</td>\n",
       "      <td>6</td>\n",
       "      <td>4.0</td>\n",
       "      <td>964982224</td>\n",
       "    </tr>\n",
       "    <tr>\n",
       "      <th>3</th>\n",
       "      <td>1</td>\n",
       "      <td>47</td>\n",
       "      <td>5.0</td>\n",
       "      <td>964983815</td>\n",
       "    </tr>\n",
       "    <tr>\n",
       "      <th>4</th>\n",
       "      <td>1</td>\n",
       "      <td>50</td>\n",
       "      <td>5.0</td>\n",
       "      <td>964982931</td>\n",
       "    </tr>\n",
       "    <tr>\n",
       "      <th>...</th>\n",
       "      <td>...</td>\n",
       "      <td>...</td>\n",
       "      <td>...</td>\n",
       "      <td>...</td>\n",
       "    </tr>\n",
       "    <tr>\n",
       "      <th>100831</th>\n",
       "      <td>610</td>\n",
       "      <td>166534</td>\n",
       "      <td>4.0</td>\n",
       "      <td>1493848402</td>\n",
       "    </tr>\n",
       "    <tr>\n",
       "      <th>100832</th>\n",
       "      <td>610</td>\n",
       "      <td>168248</td>\n",
       "      <td>5.0</td>\n",
       "      <td>1493850091</td>\n",
       "    </tr>\n",
       "    <tr>\n",
       "      <th>100833</th>\n",
       "      <td>610</td>\n",
       "      <td>168250</td>\n",
       "      <td>5.0</td>\n",
       "      <td>1494273047</td>\n",
       "    </tr>\n",
       "    <tr>\n",
       "      <th>100834</th>\n",
       "      <td>610</td>\n",
       "      <td>168252</td>\n",
       "      <td>5.0</td>\n",
       "      <td>1493846352</td>\n",
       "    </tr>\n",
       "    <tr>\n",
       "      <th>100835</th>\n",
       "      <td>610</td>\n",
       "      <td>170875</td>\n",
       "      <td>3.0</td>\n",
       "      <td>1493846415</td>\n",
       "    </tr>\n",
       "  </tbody>\n",
       "</table>\n",
       "<p>100836 rows × 4 columns</p>\n",
       "</div>"
      ],
      "text/plain": [
       "        userId  movieId  rating   timestamp\n",
       "0            1        1     4.0   964982703\n",
       "1            1        3     4.0   964981247\n",
       "2            1        6     4.0   964982224\n",
       "3            1       47     5.0   964983815\n",
       "4            1       50     5.0   964982931\n",
       "...        ...      ...     ...         ...\n",
       "100831     610   166534     4.0  1493848402\n",
       "100832     610   168248     5.0  1493850091\n",
       "100833     610   168250     5.0  1494273047\n",
       "100834     610   168252     5.0  1493846352\n",
       "100835     610   170875     3.0  1493846415\n",
       "\n",
       "[100836 rows x 4 columns]"
      ]
     },
     "execution_count": 84,
     "metadata": {},
     "output_type": "execute_result"
    }
   ],
   "source": [
    "df_ratings"
   ]
  },
  {
   "cell_type": "markdown",
   "id": "0e52ef9f",
   "metadata": {},
   "source": [
    "## Exploração dos Dados"
   ]
  },
  {
   "cell_type": "markdown",
   "id": "79e6e390",
   "metadata": {},
   "source": [
    "### Quantos gêneros o filme \"The Matrix\" tem? Quais são os gêneros?"
   ]
  },
  {
   "cell_type": "code",
   "execution_count": 127,
   "id": "76b7dca4",
   "metadata": {
    "scrolled": true
   },
   "outputs": [
    {
     "name": "stderr",
     "output_type": "stream",
     "text": [
      "C:\\Users\\Amanda\\AppData\\Local\\Temp\\ipykernel_6012\\1464765748.py:2: FutureWarning: The default value of regex will change from True to False in a future version.\n",
      "  df_aux[\"title\"] = df_movies['title'].str.replace('[^A-Za-z0-9]+','')\n"
     ]
    },
    {
     "data": {
      "text/html": [
       "<div>\n",
       "<style scoped>\n",
       "    .dataframe tbody tr th:only-of-type {\n",
       "        vertical-align: middle;\n",
       "    }\n",
       "\n",
       "    .dataframe tbody tr th {\n",
       "        vertical-align: top;\n",
       "    }\n",
       "\n",
       "    .dataframe thead th {\n",
       "        text-align: right;\n",
       "    }\n",
       "</style>\n",
       "<table border=\"1\" class=\"dataframe\">\n",
       "  <thead>\n",
       "    <tr style=\"text-align: right;\">\n",
       "      <th></th>\n",
       "      <th>movieId</th>\n",
       "      <th>title</th>\n",
       "      <th>genres</th>\n",
       "      <th>ano</th>\n",
       "      <th>genres_count</th>\n",
       "    </tr>\n",
       "  </thead>\n",
       "  <tbody>\n",
       "    <tr>\n",
       "      <th>0</th>\n",
       "      <td>1</td>\n",
       "      <td>toystory</td>\n",
       "      <td>Adventure|Animation|Children|Comedy|Fantasy</td>\n",
       "      <td>1995</td>\n",
       "      <td>5</td>\n",
       "    </tr>\n",
       "    <tr>\n",
       "      <th>1</th>\n",
       "      <td>2</td>\n",
       "      <td>jumanji</td>\n",
       "      <td>Adventure|Children|Fantasy</td>\n",
       "      <td>1995</td>\n",
       "      <td>3</td>\n",
       "    </tr>\n",
       "    <tr>\n",
       "      <th>2</th>\n",
       "      <td>3</td>\n",
       "      <td>grumpieroldmen</td>\n",
       "      <td>Comedy|Romance</td>\n",
       "      <td>1995</td>\n",
       "      <td>2</td>\n",
       "    </tr>\n",
       "    <tr>\n",
       "      <th>3</th>\n",
       "      <td>4</td>\n",
       "      <td>waitingtoexhale</td>\n",
       "      <td>Comedy|Drama|Romance</td>\n",
       "      <td>1995</td>\n",
       "      <td>3</td>\n",
       "    </tr>\n",
       "    <tr>\n",
       "      <th>4</th>\n",
       "      <td>5</td>\n",
       "      <td>fatherofthebridepartii</td>\n",
       "      <td>Comedy</td>\n",
       "      <td>1995</td>\n",
       "      <td>1</td>\n",
       "    </tr>\n",
       "    <tr>\n",
       "      <th>...</th>\n",
       "      <td>...</td>\n",
       "      <td>...</td>\n",
       "      <td>...</td>\n",
       "      <td>...</td>\n",
       "      <td>...</td>\n",
       "    </tr>\n",
       "    <tr>\n",
       "      <th>9737</th>\n",
       "      <td>193581</td>\n",
       "      <td>blackbutlerbookoftheatlantic</td>\n",
       "      <td>Action|Animation|Comedy|Fantasy</td>\n",
       "      <td>2017</td>\n",
       "      <td>4</td>\n",
       "    </tr>\n",
       "    <tr>\n",
       "      <th>9738</th>\n",
       "      <td>193583</td>\n",
       "      <td>nogamenolifezero</td>\n",
       "      <td>Animation|Comedy|Fantasy</td>\n",
       "      <td>2017</td>\n",
       "      <td>3</td>\n",
       "    </tr>\n",
       "    <tr>\n",
       "      <th>9739</th>\n",
       "      <td>193585</td>\n",
       "      <td>flint</td>\n",
       "      <td>Drama</td>\n",
       "      <td>2017</td>\n",
       "      <td>1</td>\n",
       "    </tr>\n",
       "    <tr>\n",
       "      <th>9740</th>\n",
       "      <td>193587</td>\n",
       "      <td>bungostraydogsdeadapple</td>\n",
       "      <td>Action|Animation</td>\n",
       "      <td>2018</td>\n",
       "      <td>2</td>\n",
       "    </tr>\n",
       "    <tr>\n",
       "      <th>9741</th>\n",
       "      <td>193609</td>\n",
       "      <td>andrewdiceclaydicerules</td>\n",
       "      <td>Comedy</td>\n",
       "      <td>1991</td>\n",
       "      <td>1</td>\n",
       "    </tr>\n",
       "  </tbody>\n",
       "</table>\n",
       "<p>9742 rows × 5 columns</p>\n",
       "</div>"
      ],
      "text/plain": [
       "      movieId                         title  \\\n",
       "0           1                      toystory   \n",
       "1           2                       jumanji   \n",
       "2           3                grumpieroldmen   \n",
       "3           4               waitingtoexhale   \n",
       "4           5        fatherofthebridepartii   \n",
       "...       ...                           ...   \n",
       "9737   193581  blackbutlerbookoftheatlantic   \n",
       "9738   193583              nogamenolifezero   \n",
       "9739   193585                         flint   \n",
       "9740   193587       bungostraydogsdeadapple   \n",
       "9741   193609       andrewdiceclaydicerules   \n",
       "\n",
       "                                           genres   ano  genres_count  \n",
       "0     Adventure|Animation|Children|Comedy|Fantasy  1995             5  \n",
       "1                      Adventure|Children|Fantasy  1995             3  \n",
       "2                                  Comedy|Romance  1995             2  \n",
       "3                            Comedy|Drama|Romance  1995             3  \n",
       "4                                          Comedy  1995             1  \n",
       "...                                           ...   ...           ...  \n",
       "9737              Action|Animation|Comedy|Fantasy  2017             4  \n",
       "9738                     Animation|Comedy|Fantasy  2017             3  \n",
       "9739                                        Drama  2017             1  \n",
       "9740                             Action|Animation  2018             2  \n",
       "9741                                       Comedy  1991             1  \n",
       "\n",
       "[9742 rows x 5 columns]"
      ]
     },
     "execution_count": 127,
     "metadata": {},
     "output_type": "execute_result"
    }
   ],
   "source": [
    "df_aux = df_movies.copy()\n",
    "df_aux[\"title\"] = df_movies['title'].str.replace('[^A-Za-z0-9]+','')\n",
    "df_aux[\"title\"] = df_aux[\"title\"].str.lower()\n",
    "df_aux"
   ]
  },
  {
   "cell_type": "code",
   "execution_count": 136,
   "id": "d14f671c",
   "metadata": {},
   "outputs": [
    {
     "data": {
      "text/plain": [
       "2571"
      ]
     },
     "execution_count": 136,
     "metadata": {},
     "output_type": "execute_result"
    }
   ],
   "source": [
    "matrix_id = df_aux[(df_aux[\"title\"]== (\"matrixthe\"))]\n",
    "matrix_id = matrix_id.iloc[0]['movieId']\n",
    "matrix_id"
   ]
  },
  {
   "cell_type": "markdown",
   "id": "3e4c2e01",
   "metadata": {},
   "source": [
    "### Quantos gêneros cada filme tem, em média?"
   ]
  },
  {
   "cell_type": "code",
   "execution_count": 147,
   "id": "db8eefe4",
   "metadata": {},
   "outputs": [
    {
     "data": {
      "text/plain": [
       "2.2668856497639087"
      ]
     },
     "execution_count": 147,
     "metadata": {},
     "output_type": "execute_result"
    }
   ],
   "source": [
    "genres_mean = df_movies[\"genres_count\"].mean()\n",
    "genres_mean"
   ]
  },
  {
   "cell_type": "markdown",
   "id": "2566ae63",
   "metadata": {},
   "source": [
    "### Quais são os cinco filmes com maior número de gêneros?"
   ]
  },
  {
   "cell_type": "code",
   "execution_count": 79,
   "id": "8c7d1ece",
   "metadata": {},
   "outputs": [
    {
     "data": {
      "text/plain": [
       "['Rubber',\n",
       " 'Patlabor: The Movie',\n",
       " 'Mulan',\n",
       " 'Who Framed Roger Rabbit?',\n",
       " 'Osmosis Jones']"
      ]
     },
     "execution_count": 79,
     "metadata": {},
     "output_type": "execute_result"
    }
   ],
   "source": [
    "genres_highest = df_movies.nlargest(5, \"genres_count\")\n",
    "genres_highest = genres_highest[\"title\"].tolist()\n",
    "genres_highest"
   ]
  },
  {
   "cell_type": "markdown",
   "id": "d65be8fb",
   "metadata": {},
   "source": [
    "### Quantos usuários deram nota para o filme \"The Matrix\"?"
   ]
  },
  {
   "cell_type": "code",
   "execution_count": 156,
   "id": "f67ae592",
   "metadata": {},
   "outputs": [
    {
     "data": {
      "text/plain": [
       "278"
      ]
     },
     "execution_count": 156,
     "metadata": {},
     "output_type": "execute_result"
    }
   ],
   "source": [
    "ratings_matrix_count = movies_ratings[(movies_ratings[\"movieId\"] == matrix_id)]\n",
    "ratings_matrix_count.count()[\"rating\"]"
   ]
  },
  {
   "cell_type": "markdown",
   "id": "091120b3",
   "metadata": {},
   "source": [
    "### Quantos usuários, em média, deram nota para cada filme?"
   ]
  },
  {
   "cell_type": "code",
   "execution_count": null,
   "id": "45ad4a6f",
   "metadata": {},
   "outputs": [],
   "source": []
  },
  {
   "cell_type": "markdown",
   "id": "9eb8bafd",
   "metadata": {},
   "source": [
    "### Quais são os cinco filmes para os quais mais usuários deram nota?"
   ]
  },
  {
   "cell_type": "code",
   "execution_count": null,
   "id": "435d6dfe",
   "metadata": {},
   "outputs": [],
   "source": []
  },
  {
   "cell_type": "markdown",
   "id": "9f09673c",
   "metadata": {},
   "source": [
    "### Qual o rating médio do filme \"The Matrix\"?"
   ]
  },
  {
   "cell_type": "code",
   "execution_count": null,
   "id": "a6f5a59f",
   "metadata": {},
   "outputs": [],
   "source": []
  },
  {
   "cell_type": "markdown",
   "id": "bbd49c7b",
   "metadata": {},
   "source": [
    "### Cada filme tem um rating médio. Qual a média desses ratings, por gênero?"
   ]
  },
  {
   "cell_type": "code",
   "execution_count": null,
   "id": "da8b5404",
   "metadata": {},
   "outputs": [],
   "source": []
  },
  {
   "cell_type": "markdown",
   "id": "ebed56f6",
   "metadata": {},
   "source": [
    "### Para cada gênero de filme, quantos usuários deram cada nota possível?"
   ]
  },
  {
   "cell_type": "code",
   "execution_count": null,
   "id": "7d922920",
   "metadata": {},
   "outputs": [],
   "source": []
  }
 ],
 "metadata": {
  "kernelspec": {
   "display_name": "Python [conda env:letscode] *",
   "language": "python",
   "name": "conda-env-letscode-py"
  },
  "language_info": {
   "codemirror_mode": {
    "name": "ipython",
    "version": 3
   },
   "file_extension": ".py",
   "mimetype": "text/x-python",
   "name": "python",
   "nbconvert_exporter": "python",
   "pygments_lexer": "ipython3",
   "version": "3.8.13"
  }
 },
 "nbformat": 4,
 "nbformat_minor": 5
}
