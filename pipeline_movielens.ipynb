{
 "cells": [
  {
   "cell_type": "markdown",
   "id": "4e8c507b",
   "metadata": {},
   "source": [
    "Perguntas:\n",
    "- Quantos gêneros o filme \"The Matrix\" tem? Quais são os gêneros?\n",
    "- Quantos gêneros cada filme tem, em média?\n",
    "- Quais são os cinco filmes com maior número de gêneros?\n",
    "- Quantos usuários deram nota para o filme \"The Matrix\"?\n",
    "- Quantos usuários, em média, deram nota para cada filme?\n",
    "- Quais são os cinco filmes para os quais mais usuários deram nota?\n",
    "- Qual o rating médio do filme \"The Matrix\"?\n",
    "- Cada filme tem um rating médio. Qual a média desses ratings, por gênero?\n",
    "- Para cada gênero de filme, quantos usuários deram cada nota possível?"
   ]
  },
  {
   "cell_type": "markdown",
   "id": "08f1dd1e",
   "metadata": {},
   "source": [
    "Dicas:\n",
    "1. Só é necessário as tabelas movies e ratings para este projeto.\n",
    "2. Pesquise a função \"explode\" no pandas. Ela pode ser útil."
   ]
  },
  {
   "cell_type": "markdown",
   "id": "03bed730",
   "metadata": {},
   "source": [
    "## Importação das Bibliotecas"
   ]
  },
  {
   "cell_type": "code",
   "execution_count": 2,
   "id": "927c6c38",
   "metadata": {},
   "outputs": [],
   "source": [
    "import pandas as pd\n",
    "import numpy as np"
   ]
  },
  {
   "cell_type": "markdown",
   "id": "bb35855b",
   "metadata": {},
   "source": [
    "## Extração dos Dados"
   ]
  },
  {
   "cell_type": "code",
   "execution_count": 3,
   "id": "bda307ad",
   "metadata": {},
   "outputs": [],
   "source": [
    "def read_data_csv(filename=str):\n",
    "    path_dir = 'dados/raw/movie_lens'\n",
    "    df = pd.read_csv(f'{path_dir}/{filename}', decimal='.')\n",
    "    return df"
   ]
  },
  {
   "cell_type": "code",
   "execution_count": 4,
   "id": "5edcecad",
   "metadata": {},
   "outputs": [],
   "source": [
    "df_movies = read_data_csv('movies.csv')\n",
    "df_ratings = read_data_csv('ratings.csv')"
   ]
  },
  {
   "cell_type": "markdown",
   "id": "4fa77758",
   "metadata": {},
   "source": [
    "## Tratamento dos Dados"
   ]
  },
  {
   "cell_type": "code",
   "execution_count": 126,
   "id": "d02380e5",
   "metadata": {},
   "outputs": [],
   "source": [
    "df_movies[\"ano\"] = df_movies[\"title\"].apply(lambda st: st[st.find(\"(\")+1:st.find(\")\")])\n",
    "df_movies[\"title\"] = df_movies[\"title\"].str.replace(r\" \\(.*\\)\",\"\", regex=True)\n",
    "df_movies['genres_count'] = df_movies['genres'].str.split('|').str.len()"
   ]
  },
  {
   "cell_type": "code",
   "execution_count": 127,
   "id": "8a34b848",
   "metadata": {
    "scrolled": true
   },
   "outputs": [],
   "source": [
    "# Concatenando a base de movies com o de ratings\n",
    "id_title=df_movies[['movieId','title']]\n",
    "movies_ratings = pd.merge(df_ratings, id_title, how = 'left', on = 'movieId')"
   ]
  },
  {
   "cell_type": "code",
   "execution_count": 128,
   "id": "db9d34b8",
   "metadata": {},
   "outputs": [],
   "source": [
    "# Criando a base de gêneros\n",
    "movies_genres = df_movies.copy()\n",
    "movies_genres['genres'] = movies_genres['genres'].str.split('|')\n",
    "movies_genres = movies_genres.explode('genres')\n",
    "movies_genres = movies_genres[['movieId','title', 'genres']]"
   ]
  },
  {
   "cell_type": "markdown",
   "id": "0e52ef9f",
   "metadata": {},
   "source": [
    "## Exploração dos Dados"
   ]
  },
  {
   "cell_type": "markdown",
   "id": "79e6e390",
   "metadata": {},
   "source": [
    "### Quantos gêneros o filme \"The Matrix\" tem? Quais são os gêneros?"
   ]
  },
  {
   "cell_type": "code",
   "execution_count": 129,
   "id": "76b7dca4",
   "metadata": {
    "scrolled": true
   },
   "outputs": [],
   "source": [
    "df_aux = df_movies.copy()\n",
    "df_aux[\"title\"] = df_movies['title'].str.replace('[^A-Za-z0-9]+','', regex=True)\n",
    "df_aux[\"title\"] = df_aux[\"title\"].str.lower()"
   ]
  },
  {
   "cell_type": "code",
   "execution_count": 130,
   "id": "d14f671c",
   "metadata": {},
   "outputs": [
    {
     "data": {
      "text/html": [
       "<div>\n",
       "<style scoped>\n",
       "    .dataframe tbody tr th:only-of-type {\n",
       "        vertical-align: middle;\n",
       "    }\n",
       "\n",
       "    .dataframe tbody tr th {\n",
       "        vertical-align: top;\n",
       "    }\n",
       "\n",
       "    .dataframe thead th {\n",
       "        text-align: right;\n",
       "    }\n",
       "</style>\n",
       "<table border=\"1\" class=\"dataframe\">\n",
       "  <thead>\n",
       "    <tr style=\"text-align: right;\">\n",
       "      <th></th>\n",
       "      <th>Qtd_genres_matrix</th>\n",
       "    </tr>\n",
       "  </thead>\n",
       "  <tbody>\n",
       "    <tr>\n",
       "      <th>1939</th>\n",
       "      <td>3</td>\n",
       "    </tr>\n",
       "  </tbody>\n",
       "</table>\n",
       "</div>"
      ],
      "text/plain": [
       "      Qtd_genres_matrix\n",
       "1939                  3"
      ]
     },
     "execution_count": 130,
     "metadata": {},
     "output_type": "execute_result"
    }
   ],
   "source": [
    "matrix_id = df_aux[(df_aux[\"title\"]== (\"matrixthe\"))]\n",
    "matrix_id = matrix_id.iloc[0]['movieId']\n",
    "df_aux[(df_aux['movieId'] == matrix_id)]['genres_count'].to_frame(\"Qtd_genres_matrix\")"
   ]
  },
  {
   "cell_type": "code",
   "execution_count": 135,
   "id": "3538c5e1",
   "metadata": {},
   "outputs": [
    {
     "data": {
      "text/html": [
       "<div>\n",
       "<style scoped>\n",
       "    .dataframe tbody tr th:only-of-type {\n",
       "        vertical-align: middle;\n",
       "    }\n",
       "\n",
       "    .dataframe tbody tr th {\n",
       "        vertical-align: top;\n",
       "    }\n",
       "\n",
       "    .dataframe thead th {\n",
       "        text-align: right;\n",
       "    }\n",
       "</style>\n",
       "<table border=\"1\" class=\"dataframe\">\n",
       "  <thead>\n",
       "    <tr style=\"text-align: right;\">\n",
       "      <th></th>\n",
       "      <th>Gêneros</th>\n",
       "    </tr>\n",
       "  </thead>\n",
       "  <tbody>\n",
       "    <tr>\n",
       "      <th>1939</th>\n",
       "      <td>Action</td>\n",
       "    </tr>\n",
       "    <tr>\n",
       "      <th>1939</th>\n",
       "      <td>Sci-Fi</td>\n",
       "    </tr>\n",
       "    <tr>\n",
       "      <th>1939</th>\n",
       "      <td>Thriller</td>\n",
       "    </tr>\n",
       "  </tbody>\n",
       "</table>\n",
       "</div>"
      ],
      "text/plain": [
       "       Gêneros\n",
       "1939    Action\n",
       "1939    Sci-Fi\n",
       "1939  Thriller"
      ]
     },
     "execution_count": 135,
     "metadata": {},
     "output_type": "execute_result"
    }
   ],
   "source": [
    "movies_genres[(movies_genres[\"movieId\"] == matrix_id)]['genres'].to_frame(\"Gêneros\")"
   ]
  },
  {
   "cell_type": "markdown",
   "id": "3e4c2e01",
   "metadata": {},
   "source": [
    "### Quantos gêneros cada filme tem, em média?"
   ]
  },
  {
   "cell_type": "code",
   "execution_count": 136,
   "id": "db8eefe4",
   "metadata": {},
   "outputs": [
    {
     "data": {
      "text/plain": [
       "2.2668856497639087"
      ]
     },
     "execution_count": 136,
     "metadata": {},
     "output_type": "execute_result"
    }
   ],
   "source": [
    "genres_mean = df_movies[\"genres_count\"].mean()\n",
    "genres_mean"
   ]
  },
  {
   "cell_type": "markdown",
   "id": "2566ae63",
   "metadata": {},
   "source": [
    "### Quais são os cinco filmes com maior número de gêneros?"
   ]
  },
  {
   "cell_type": "code",
   "execution_count": 137,
   "id": "8c7d1ece",
   "metadata": {},
   "outputs": [
    {
     "data": {
      "text/html": [
       "<div>\n",
       "<style scoped>\n",
       "    .dataframe tbody tr th:only-of-type {\n",
       "        vertical-align: middle;\n",
       "    }\n",
       "\n",
       "    .dataframe tbody tr th {\n",
       "        vertical-align: top;\n",
       "    }\n",
       "\n",
       "    .dataframe thead th {\n",
       "        text-align: right;\n",
       "    }\n",
       "</style>\n",
       "<table border=\"1\" class=\"dataframe\">\n",
       "  <thead>\n",
       "    <tr style=\"text-align: right;\">\n",
       "      <th></th>\n",
       "      <th>Movies</th>\n",
       "    </tr>\n",
       "  </thead>\n",
       "  <tbody>\n",
       "    <tr>\n",
       "      <th>7441</th>\n",
       "      <td>Rubber</td>\n",
       "    </tr>\n",
       "    <tr>\n",
       "      <th>5556</th>\n",
       "      <td>Patlabor: The Movie</td>\n",
       "    </tr>\n",
       "    <tr>\n",
       "      <th>1390</th>\n",
       "      <td>Mulan</td>\n",
       "    </tr>\n",
       "    <tr>\n",
       "      <th>2250</th>\n",
       "      <td>Who Framed Roger Rabbit?</td>\n",
       "    </tr>\n",
       "    <tr>\n",
       "      <th>3460</th>\n",
       "      <td>Osmosis Jones</td>\n",
       "    </tr>\n",
       "  </tbody>\n",
       "</table>\n",
       "</div>"
      ],
      "text/plain": [
       "                        Movies\n",
       "7441                    Rubber\n",
       "5556       Patlabor: The Movie\n",
       "1390                     Mulan\n",
       "2250  Who Framed Roger Rabbit?\n",
       "3460             Osmosis Jones"
      ]
     },
     "execution_count": 137,
     "metadata": {},
     "output_type": "execute_result"
    }
   ],
   "source": [
    "genres_highest = df_movies.nlargest(5, \"genres_count\")\n",
    "genres_highest = genres_highest[\"title\"].to_frame(\"Movies\")\n",
    "genres_highest"
   ]
  },
  {
   "cell_type": "markdown",
   "id": "d65be8fb",
   "metadata": {},
   "source": [
    "### Quantos usuários deram nota para o filme \"The Matrix\"?"
   ]
  },
  {
   "cell_type": "code",
   "execution_count": 138,
   "id": "f67ae592",
   "metadata": {},
   "outputs": [
    {
     "data": {
      "text/plain": [
       "278"
      ]
     },
     "execution_count": 138,
     "metadata": {},
     "output_type": "execute_result"
    }
   ],
   "source": [
    "ratings_matrix_count = movies_ratings[(movies_ratings[\"movieId\"] == matrix_id)]\n",
    "ratings_matrix_count.count()[\"rating\"]"
   ]
  },
  {
   "cell_type": "markdown",
   "id": "091120b3",
   "metadata": {},
   "source": [
    "### Quantos usuários, em média, deram nota para cada filme?"
   ]
  },
  {
   "cell_type": "code",
   "execution_count": 139,
   "id": "45ad4a6f",
   "metadata": {},
   "outputs": [
    {
     "data": {
      "text/plain": [
       "10.730658720868362"
      ]
     },
     "execution_count": 139,
     "metadata": {},
     "output_type": "execute_result"
    }
   ],
   "source": [
    "users_aver_movie = movies_ratings.groupby(\"title\")[\"userId\"].count().to_frame(\"users_average\")\n",
    "users_aver_movie['users_average'].mean()"
   ]
  },
  {
   "cell_type": "markdown",
   "id": "9eb8bafd",
   "metadata": {},
   "source": [
    "### Quais são os cinco filmes para os quais mais usuários deram nota?"
   ]
  },
  {
   "cell_type": "code",
   "execution_count": 140,
   "id": "435d6dfe",
   "metadata": {},
   "outputs": [
    {
     "data": {
      "text/html": [
       "<div>\n",
       "<style scoped>\n",
       "    .dataframe tbody tr th:only-of-type {\n",
       "        vertical-align: middle;\n",
       "    }\n",
       "\n",
       "    .dataframe tbody tr th {\n",
       "        vertical-align: top;\n",
       "    }\n",
       "\n",
       "    .dataframe thead th {\n",
       "        text-align: right;\n",
       "    }\n",
       "</style>\n",
       "<table border=\"1\" class=\"dataframe\">\n",
       "  <thead>\n",
       "    <tr style=\"text-align: right;\">\n",
       "      <th></th>\n",
       "      <th>total_reviews</th>\n",
       "    </tr>\n",
       "    <tr>\n",
       "      <th>title</th>\n",
       "      <th></th>\n",
       "    </tr>\n",
       "  </thead>\n",
       "  <tbody>\n",
       "    <tr>\n",
       "      <th>Forrest Gump</th>\n",
       "      <td>329</td>\n",
       "    </tr>\n",
       "    <tr>\n",
       "      <th>Shawshank Redemption, The</th>\n",
       "      <td>317</td>\n",
       "    </tr>\n",
       "    <tr>\n",
       "      <th>Pulp Fiction</th>\n",
       "      <td>307</td>\n",
       "    </tr>\n",
       "    <tr>\n",
       "      <th>Silence of the Lambs, The</th>\n",
       "      <td>279</td>\n",
       "    </tr>\n",
       "    <tr>\n",
       "      <th>Matrix, The</th>\n",
       "      <td>278</td>\n",
       "    </tr>\n",
       "  </tbody>\n",
       "</table>\n",
       "</div>"
      ],
      "text/plain": [
       "                           total_reviews\n",
       "title                                   \n",
       "Forrest Gump                         329\n",
       "Shawshank Redemption, The            317\n",
       "Pulp Fiction                         307\n",
       "Silence of the Lambs, The            279\n",
       "Matrix, The                          278"
      ]
     },
     "execution_count": 140,
     "metadata": {},
     "output_type": "execute_result"
    }
   ],
   "source": [
    "movies_ratings.groupby(\"title\")[\"title\"].count().to_frame(\"total_reviews\").nlargest(5, \"total_reviews\")"
   ]
  },
  {
   "cell_type": "markdown",
   "id": "9f09673c",
   "metadata": {},
   "source": [
    "### Qual o rating médio do filme \"The Matrix\"?"
   ]
  },
  {
   "cell_type": "code",
   "execution_count": 141,
   "id": "a6f5a59f",
   "metadata": {},
   "outputs": [],
   "source": [
    "ratings_matrix_mean = movies_ratings[(movies_ratings[\"movieId\"] == matrix_id)]"
   ]
  },
  {
   "cell_type": "code",
   "execution_count": 142,
   "id": "0b6f080f",
   "metadata": {},
   "outputs": [
    {
     "data": {
      "text/plain": [
       "4.192446043165468"
      ]
     },
     "execution_count": 142,
     "metadata": {},
     "output_type": "execute_result"
    }
   ],
   "source": [
    "ratings_matrix_mean[\"rating\"].mean()"
   ]
  },
  {
   "cell_type": "markdown",
   "id": "bbd49c7b",
   "metadata": {},
   "source": [
    "### Cada filme tem um rating médio. Qual a média desses ratings, por gênero?"
   ]
  },
  {
   "cell_type": "code",
   "execution_count": 143,
   "id": "da8b5404",
   "metadata": {},
   "outputs": [
    {
     "data": {
      "text/html": [
       "<div>\n",
       "<style scoped>\n",
       "    .dataframe tbody tr th:only-of-type {\n",
       "        vertical-align: middle;\n",
       "    }\n",
       "\n",
       "    .dataframe tbody tr th {\n",
       "        vertical-align: top;\n",
       "    }\n",
       "\n",
       "    .dataframe thead th {\n",
       "        text-align: right;\n",
       "    }\n",
       "</style>\n",
       "<table border=\"1\" class=\"dataframe\">\n",
       "  <thead>\n",
       "    <tr style=\"text-align: right;\">\n",
       "      <th></th>\n",
       "      <th>mean_genres</th>\n",
       "    </tr>\n",
       "    <tr>\n",
       "      <th>genres</th>\n",
       "      <th></th>\n",
       "    </tr>\n",
       "  </thead>\n",
       "  <tbody>\n",
       "    <tr>\n",
       "      <th>(no genres listed)</th>\n",
       "      <td>3.371148</td>\n",
       "    </tr>\n",
       "    <tr>\n",
       "      <th>Action</th>\n",
       "      <td>3.094498</td>\n",
       "    </tr>\n",
       "    <tr>\n",
       "      <th>Adventure</th>\n",
       "      <td>3.215230</td>\n",
       "    </tr>\n",
       "    <tr>\n",
       "      <th>Animation</th>\n",
       "      <td>3.497119</td>\n",
       "    </tr>\n",
       "    <tr>\n",
       "      <th>Children</th>\n",
       "      <td>3.107690</td>\n",
       "    </tr>\n",
       "    <tr>\n",
       "      <th>Comedy</th>\n",
       "      <td>3.181716</td>\n",
       "    </tr>\n",
       "    <tr>\n",
       "      <th>Crime</th>\n",
       "      <td>3.301844</td>\n",
       "    </tr>\n",
       "    <tr>\n",
       "      <th>Documentary</th>\n",
       "      <td>3.781682</td>\n",
       "    </tr>\n",
       "    <tr>\n",
       "      <th>Drama</th>\n",
       "      <td>3.420905</td>\n",
       "    </tr>\n",
       "    <tr>\n",
       "      <th>Fantasy</th>\n",
       "      <td>3.218843</td>\n",
       "    </tr>\n",
       "    <tr>\n",
       "      <th>Film-Noir</th>\n",
       "      <td>3.670471</td>\n",
       "    </tr>\n",
       "    <tr>\n",
       "      <th>Horror</th>\n",
       "      <td>2.918965</td>\n",
       "    </tr>\n",
       "    <tr>\n",
       "      <th>IMAX</th>\n",
       "      <td>3.311996</td>\n",
       "    </tr>\n",
       "    <tr>\n",
       "      <th>Musical</th>\n",
       "      <td>3.296371</td>\n",
       "    </tr>\n",
       "    <tr>\n",
       "      <th>Mystery</th>\n",
       "      <td>3.330364</td>\n",
       "    </tr>\n",
       "    <tr>\n",
       "      <th>Romance</th>\n",
       "      <td>3.364870</td>\n",
       "    </tr>\n",
       "    <tr>\n",
       "      <th>Sci-Fi</th>\n",
       "      <td>3.102637</td>\n",
       "    </tr>\n",
       "    <tr>\n",
       "      <th>Thriller</th>\n",
       "      <td>3.156116</td>\n",
       "    </tr>\n",
       "    <tr>\n",
       "      <th>War</th>\n",
       "      <td>3.571655</td>\n",
       "    </tr>\n",
       "    <tr>\n",
       "      <th>Western</th>\n",
       "      <td>3.383389</td>\n",
       "    </tr>\n",
       "  </tbody>\n",
       "</table>\n",
       "</div>"
      ],
      "text/plain": [
       "                    mean_genres\n",
       "genres                         \n",
       "(no genres listed)     3.371148\n",
       "Action                 3.094498\n",
       "Adventure              3.215230\n",
       "Animation              3.497119\n",
       "Children               3.107690\n",
       "Comedy                 3.181716\n",
       "Crime                  3.301844\n",
       "Documentary            3.781682\n",
       "Drama                  3.420905\n",
       "Fantasy                3.218843\n",
       "Film-Noir              3.670471\n",
       "Horror                 2.918965\n",
       "IMAX                   3.311996\n",
       "Musical                3.296371\n",
       "Mystery                3.330364\n",
       "Romance                3.364870\n",
       "Sci-Fi                 3.102637\n",
       "Thriller               3.156116\n",
       "War                    3.571655\n",
       "Western                3.383389"
      ]
     },
     "execution_count": 143,
     "metadata": {},
     "output_type": "execute_result"
    }
   ],
   "source": [
    "mean_by_genres = movies_ratings.groupby(\"movieId\")[\"rating\"].mean().to_frame(\"rating_mean\")\n",
    "mean_by_genres = pd.merge(movies_genres, mean_by_genres, how = 'left', on = 'movieId')\n",
    "mean_by_genres.groupby(\"genres\")[\"rating_mean\"].mean().to_frame(\"mean_genres\")"
   ]
  },
  {
   "cell_type": "markdown",
   "id": "ebed56f6",
   "metadata": {},
   "source": [
    "### Para cada gênero de filme, quantos usuários deram cada nota possível?"
   ]
  },
  {
   "cell_type": "code",
   "execution_count": 144,
   "id": "7d922920",
   "metadata": {},
   "outputs": [],
   "source": [
    "id_title=movies_genres[['movieId','genres']]\n",
    "df_aux = pd.merge(movies_ratings, id_title, how = 'left', on = 'movieId')\n",
    "df_aux = df_aux[['userId', 'rating', 'genres']]"
   ]
  },
  {
   "cell_type": "code",
   "execution_count": 145,
   "id": "be461845",
   "metadata": {},
   "outputs": [],
   "source": [
    "df_aux[\"rating\"]=df_aux[\"rating\"].astype(int)\n",
    "df_aux = df_aux.groupby(['genres', 'userId'])['rating'].unique().to_frame(\"numb_unique_rating\")\n",
    "df_aux = df_aux['numb_unique_rating'].str.len().to_frame(\"diff_ratings\").reset_index()"
   ]
  },
  {
   "cell_type": "code",
   "execution_count": 146,
   "id": "ce4be288",
   "metadata": {},
   "outputs": [],
   "source": [
    "mask = df_aux['diff_ratings'] == 6\n",
    "df_aux = df_aux[mask]"
   ]
  },
  {
   "cell_type": "code",
   "execution_count": 147,
   "id": "3bbd5b6b",
   "metadata": {},
   "outputs": [
    {
     "data": {
      "text/plain": [
       "genres\n",
       "Action       68\n",
       "Adventure    58\n",
       "Animation     9\n",
       "Children     13\n",
       "Comedy       83\n",
       "Crime        36\n",
       "Drama        72\n",
       "Fantasy      36\n",
       "Horror       15\n",
       "IMAX          6\n",
       "Musical       9\n",
       "Mystery       9\n",
       "Romance      44\n",
       "Sci-Fi       46\n",
       "Thriller     49\n",
       "War           4\n",
       "Western       2\n",
       "Name: userId, dtype: int64"
      ]
     },
     "execution_count": 147,
     "metadata": {},
     "output_type": "execute_result"
    }
   ],
   "source": [
    "# Contandos os valores únicos\n",
    "df_aux.groupby(['genres'])['userId'].count()"
   ]
  }
 ],
 "metadata": {
  "kernelspec": {
   "display_name": "Python 3 (ipykernel)",
   "language": "python",
   "name": "python3"
  },
  "language_info": {
   "codemirror_mode": {
    "name": "ipython",
    "version": 3
   },
   "file_extension": ".py",
   "mimetype": "text/x-python",
   "name": "python",
   "nbconvert_exporter": "python",
   "pygments_lexer": "ipython3",
   "version": "3.7.10"
  }
 },
 "nbformat": 4,
 "nbformat_minor": 5
}
